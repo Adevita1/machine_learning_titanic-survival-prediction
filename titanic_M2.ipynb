{
  "nbformat": 4,
  "nbformat_minor": 0,
  "metadata": {
    "colab": {
      "provenance": []
    },
    "kernelspec": {
      "name": "python3",
      "display_name": "Python 3"
    },
    "language_info": {
      "name": "python"
    }
  },
  "cells": [
    {
      "cell_type": "markdown",
      "source": [
        "a) Describir brevemente la cantidad de valores faltantes para cada una de las variables de la base de datos."
      ],
      "metadata": {
        "id": "sLnXfB4r-mOl"
      }
    },
    {
      "cell_type": "code",
      "execution_count": 10,
      "metadata": {
        "colab": {
          "base_uri": "https://localhost:8080/"
        },
        "id": "Gxwv2u9d6ZJ-",
        "outputId": "e8fc542c-af09-4764-b162-93860d84e3b1"
      },
      "outputs": [
        {
          "output_type": "stream",
          "name": "stdout",
          "text": [
            "Columnas en el conjunto de datos de entrenamiento: Index(['PassengerId', 'Survived', 'Pclass', 'Name', 'Sex', 'Age', 'SibSp',\n",
            "       'Parch', 'Ticket', 'Fare', 'Cabin', 'Embarked'],\n",
            "      dtype='object')\n",
            "Valores faltantes en el conjunto de datos de entrenamiento:\n",
            "PassengerId      0\n",
            "Survived         0\n",
            "Pclass           0\n",
            "Name             0\n",
            "Sex              0\n",
            "Age            177\n",
            "SibSp            0\n",
            "Parch            0\n",
            "Ticket           0\n",
            "Fare             0\n",
            "Cabin          687\n",
            "Embarked         2\n",
            "dtype: int64\n",
            "\n",
            "Columnas en el conjunto de datos de prueba: Index(['PassengerId', 'Pclass', 'Name', 'Sex', 'Age', 'SibSp', 'Parch',\n",
            "       'Ticket', 'Fare', 'Cabin', 'Embarked'],\n",
            "      dtype='object')\n",
            "Valores faltantes en el conjunto de datos de prueba:\n",
            "PassengerId      0\n",
            "Pclass           0\n",
            "Name             0\n",
            "Sex              0\n",
            "Age             86\n",
            "SibSp            0\n",
            "Parch            0\n",
            "Ticket           0\n",
            "Fare             1\n",
            "Cabin          327\n",
            "Embarked         0\n",
            "dtype: int64\n"
          ]
        }
      ],
      "source": [
        "import pandas as pd\n",
        "\n",
        "# Cargar datasets\n",
        "train = pd.read_csv('/content/sample_data/train.csv')\n",
        "test = pd.read_csv('/content/sample_data/test.csv')\n",
        "\n",
        "# Verificar columnas y valores faltantes en el conjunto de datos de entrenamiento\n",
        "print(\"Columnas en el conjunto de datos de entrenamiento:\", train.columns)\n",
        "print(\"Valores faltantes en el conjunto de datos de entrenamiento:\")\n",
        "print(train.isnull().sum())\n",
        "\n",
        "# Verificar columnas y valores faltantes en el conjunto de datos de prueba\n",
        "print(\"\\nColumnas en el conjunto de datos de prueba:\", test.columns)\n",
        "print(\"Valores faltantes en el conjunto de datos de prueba:\")\n",
        "print(test.isnull().sum())\n",
        "\n",
        "\n"
      ]
    },
    {
      "cell_type": "markdown",
      "source": [
        "b) Completar aquellas variables que se encuentran faltantes para las bases de train (“Age”, “Fare”, “Cabin”) y test (“Age”, “Cabin”, “Embarked”)."
      ],
      "metadata": {
        "id": "cbZPf6ef-yHU"
      }
    },
    {
      "cell_type": "code",
      "source": [
        "# Imputar valores faltantes en el conjunto de datos de entrenamiento\n",
        "train['Age'].fillna(train['Age'].median(), inplace=True)\n",
        "train['Fare'].fillna(train['Fare'].median(), inplace=True)\n",
        "train['Embarked'].fillna(train['Embarked'].mode()[0], inplace=True)\n",
        "train.drop('Cabin', axis=1, inplace=True)  # Eliminamos la columna 'Cabin' debido a demasiados valores faltantes\n",
        "\n",
        "# Imputar valores faltantes en el conjunto de datos de prueba\n",
        "test['Age'].fillna(test['Age'].median(), inplace=True)\n",
        "test['Fare'].fillna(test['Fare'].median(), inplace=True)\n",
        "test['Embarked'].fillna(test['Embarked'].mode()[0], inplace=True)\n",
        "test.drop('Cabin', axis=1, inplace=True)  # Eliminamos la columna 'Cabin' debido a demasiados valores faltantes\n",
        "\n",
        "# Verificar que ya no hay valores faltantes\n",
        "print(\"Valores faltantes en el conjunto de datos de entrenamiento después de la imputación:\")\n",
        "print(train.isnull().sum())\n",
        "\n",
        "print(\"\\nValores faltantes en el conjunto de datos de prueba después de la imputación:\")\n",
        "print(test.isnull().sum())\n",
        "\n"
      ],
      "metadata": {
        "colab": {
          "base_uri": "https://localhost:8080/"
        },
        "id": "04i1vr027jEX",
        "outputId": "fa9a5b2c-94f5-4a86-8d3d-ada28b331708"
      },
      "execution_count": 6,
      "outputs": [
        {
          "output_type": "stream",
          "name": "stdout",
          "text": [
            "Valores faltantes en el conjunto de datos de entrenamiento después de la imputación:\n",
            "PassengerId    0\n",
            "Survived       0\n",
            "Pclass         0\n",
            "Name           0\n",
            "Sex            0\n",
            "Age            0\n",
            "SibSp          0\n",
            "Parch          0\n",
            "Ticket         0\n",
            "Fare           0\n",
            "Embarked       0\n",
            "dtype: int64\n",
            "\n",
            "Valores faltantes en el conjunto de datos de prueba después de la imputación:\n",
            "PassengerId    0\n",
            "Pclass         0\n",
            "Name           0\n",
            "Sex            0\n",
            "Age            0\n",
            "SibSp          0\n",
            "Parch          0\n",
            "Ticket         0\n",
            "Fare           0\n",
            "Embarked       0\n",
            "dtype: int64\n"
          ]
        }
      ]
    },
    {
      "cell_type": "markdown",
      "source": [
        "c) Ajustar el primer modelo de regresión logística."
      ],
      "metadata": {
        "id": "m6wCI13D-1Q1"
      }
    },
    {
      "cell_type": "code",
      "source": [
        "from sklearn.model_selection import train_test_split\n",
        "from sklearn.preprocessing import StandardScaler\n",
        "from sklearn.linear_model import LogisticRegression\n",
        "from sklearn.metrics import accuracy_score, classification_report, confusion_matrix\n",
        "\n",
        "# Convertir variables categóricas a numéricas (por ejemplo, 'Sex' y 'Embarked')\n",
        "train['Sex'] = train['Sex'].map({'male': 0, 'female': 1})\n",
        "test['Sex'] = test['Sex'].map({'male': 0, 'female': 1})\n",
        "\n",
        "train['Embarked'] = train['Embarked'].map({'S': 0, 'C': 1, 'Q': 2})\n",
        "test['Embarked'] = test['Embarked'].map({'S': 0, 'C': 1, 'Q': 2})\n",
        "\n",
        "# Separar características y etiqueta en el conjunto de datos de entrenamiento\n",
        "X = train.drop(['Survived', 'Name', 'Ticket', 'PassengerId'], axis=1)\n",
        "y = train['Survived']\n",
        "\n",
        "# Dividir los datos de entrenamiento en conjuntos de entrenamiento y validación\n",
        "X_train, X_val, y_train, y_val = train_test_split(X, y, test_size=0.2, random_state=42)\n",
        "\n",
        "# Escalado de características\n",
        "scaler = StandardScaler()\n",
        "X_train = scaler.fit_transform(X_train)\n",
        "X_val = scaler.transform(X_val)\n",
        "\n",
        "# Ajustar el modelo de regresión logística\n",
        "model = LogisticRegression()\n",
        "model.fit(X_train, y_train)\n",
        "\n",
        "# Predicciones y evaluación del modelo\n",
        "y_pred = model.predict(X_val)\n",
        "accuracy = accuracy_score(y_val, y_pred)\n",
        "print(\"Accuracy del modelo:\", accuracy)\n",
        "print(\"Classification Report:\\n\", classification_report(y_val, y_pred))\n",
        "print(\"Confusion Matrix:\\n\", confusion_matrix(y_val, y_pred))\n"
      ],
      "metadata": {
        "colab": {
          "base_uri": "https://localhost:8080/"
        },
        "id": "X5JTKlWP7nRs",
        "outputId": "e687004e-effd-43f8-d844-f1afe82a3a02"
      },
      "execution_count": 7,
      "outputs": [
        {
          "output_type": "stream",
          "name": "stdout",
          "text": [
            "Accuracy del modelo: 0.7988826815642458\n",
            "Classification Report:\n",
            "               precision    recall  f1-score   support\n",
            "\n",
            "           0       0.82      0.85      0.83       105\n",
            "           1       0.77      0.73      0.75        74\n",
            "\n",
            "    accuracy                           0.80       179\n",
            "   macro avg       0.79      0.79      0.79       179\n",
            "weighted avg       0.80      0.80      0.80       179\n",
            "\n",
            "Confusion Matrix:\n",
            " [[89 16]\n",
            " [20 54]]\n"
          ]
        }
      ]
    },
    {
      "cell_type": "markdown",
      "source": [
        "d) Entrenar y determinar el nivel de accuracy del primer modelo."
      ],
      "metadata": {
        "id": "gB4LJDhv-4At"
      }
    },
    {
      "cell_type": "code",
      "source": [
        "# Preprocesar el conjunto de datos de prueba\n",
        "X_test = test.drop(['Name', 'Ticket', 'PassengerId'], axis=1)\n",
        "X_test = scaler.transform(X_test)\n",
        "\n",
        "# Predicciones en el conjunto de prueba\n",
        "test_predictions = model.predict(X_test)\n",
        "\n",
        "# Crear un DataFrame con los resultados\n",
        "submission = pd.DataFrame({\n",
        "    'PassengerId': test['PassengerId'],\n",
        "    'Survived': test_predictions\n",
        "})\n",
        "\n",
        "# Guardar el archivo de resultados\n",
        "submission.to_csv('titanic_predictions.csv', index=False)\n"
      ],
      "metadata": {
        "id": "cytTGr8P-KeU"
      },
      "execution_count": 8,
      "outputs": []
    }
  ]
}